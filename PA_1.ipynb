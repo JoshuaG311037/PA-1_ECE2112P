{
 "cells": [
  {
   "cell_type": "markdown",
   "id": "3622e688-7c5e-4584-8490-88f1643199af",
   "metadata": {},
   "source": [
    "## Programming Assignment 1\n"
   ]
  },
  {
   "cell_type": "markdown",
   "id": "18297bbe-783b-42dd-8dad-5de2d7307144",
   "metadata": {},
   "source": [
    "### Problem 1\n"
   ]
  },
  {
   "cell_type": "code",
   "execution_count": 1,
   "id": "3d489fbd-2ade-4092-beb2-b2b10d955a31",
   "metadata": {},
   "outputs": [
    {
     "name": "stdin",
     "output_type": "stream",
     "text": [
      "Enter a name:  Apples\n"
     ]
    },
    {
     "name": "stdout",
     "output_type": "stream",
     "text": [
      "Aelpps\n"
     ]
    }
   ],
   "source": [
    "def alphabet_soup(word: str): \n",
    "    return \"\".join(sorted(word))\n",
    "\n",
    "word = input(\"Enter a name: \")\n",
    "print(alphabet_soup(word))"
   ]
  },
  {
   "cell_type": "code",
   "execution_count": 3,
   "id": "19de3de9-4504-4f9d-bf99-36fd4730c00e",
   "metadata": {},
   "outputs": [
    {
     "data": {
      "text/plain": [
       "'aacgir'"
      ]
     },
     "execution_count": 3,
     "metadata": {},
     "output_type": "execute_result"
    }
   ],
   "source": [
    "alphabet_soup(\"garcia\")"
   ]
  },
  {
   "cell_type": "markdown",
   "id": "9e3922d3-0fd4-4ba1-8e71-cb03759a8313",
   "metadata": {},
   "source": [
    "### Problem 2"
   ]
  },
  {
   "cell_type": "code",
   "execution_count": 4,
   "id": "f54dbb86-7591-4a7f-a193-7d03ec3c115c",
   "metadata": {},
   "outputs": [],
   "source": [
    "def emotify(word):\n",
    "    emoticons = {\"smile\": \":)\", \"grin\": \":D\", \"sad\": \":((\", \"mad\": \">:(\"}\n",
    "    sentence = word.split()\n",
    "    result = [emoticons[word] if word in emoticons else word for word in sentence]\n",
    "    return \" \".join(result)"
   ]
  },
  {
   "cell_type": "code",
   "execution_count": 5,
   "id": "33cb6459-2c6a-4669-b7dc-59db688c7e19",
   "metadata": {},
   "outputs": [
    {
     "data": {
      "text/plain": [
       "'I would like to see you :)'"
      ]
     },
     "execution_count": 5,
     "metadata": {},
     "output_type": "execute_result"
    }
   ],
   "source": [
    "emotify(\"I would like to see you smile\")"
   ]
  },
  {
   "cell_type": "code",
   "execution_count": 6,
   "id": "ea39ca9e-db36-4fa2-934f-2e7e0b54230a",
   "metadata": {},
   "outputs": [
    {
     "data": {
      "text/plain": [
       "\"Don't be :((\""
      ]
     },
     "execution_count": 6,
     "metadata": {},
     "output_type": "execute_result"
    }
   ],
   "source": [
    "emotify(\"Don't be sad\")"
   ]
  },
  {
   "cell_type": "markdown",
   "id": "4694dc52-bec1-4a80-a76c-fc1812a4444a",
   "metadata": {},
   "source": [
    "### Problem 3"
   ]
  },
  {
   "cell_type": "code",
   "execution_count": 7,
   "id": "af5c0193-a676-4bcd-ba88-3a678fbe1de5",
   "metadata": {},
   "outputs": [
    {
     "name": "stdout",
     "output_type": "stream",
     "text": [
      "First: k\t Middle: ['t', 'u', 'l', 'o']\t Last r\n"
     ]
    }
   ],
   "source": [
    "letter_list = [\"k\", \"t\", \"u\", \"l\", \"o\",\"r\"]\n",
    "\n",
    "first, *middle, last = letter_list\n",
    "print(f\"First: {first}\\t Middle: {middle}\\t Last {last}\")"
   ]
  },
  {
   "cell_type": "code",
   "execution_count": 8,
   "id": "ba0c91a0-32f9-42b4-b841-7cdc8374f8f0",
   "metadata": {},
   "outputs": [
    {
     "name": "stdout",
     "output_type": "stream",
     "text": [
      "First: 110\t Middle: [328, 376, 244, 53, 621, 37, 64, 70]\t Last: 37\n"
     ]
    }
   ],
   "source": [
    "num_list = [110, 328, 376, 244, 53, 621, 37, 64, 70, 37]\n",
    "\n",
    "first, *middle, last = num_list\n",
    "print(f\"First: {first}\\t Middle: {middle}\\t Last: {last}\")"
   ]
  },
  {
   "cell_type": "code",
   "execution_count": null,
   "id": "f053889e-2bfc-4fda-adb0-7d491ec1d482",
   "metadata": {},
   "outputs": [],
   "source": []
  }
 ],
 "metadata": {
  "kernelspec": {
   "display_name": "Python [conda env:base] *",
   "language": "python",
   "name": "conda-base-py"
  },
  "language_info": {
   "codemirror_mode": {
    "name": "ipython",
    "version": 3
   },
   "file_extension": ".py",
   "mimetype": "text/x-python",
   "name": "python",
   "nbconvert_exporter": "python",
   "pygments_lexer": "ipython3",
   "version": "3.13.5"
  }
 },
 "nbformat": 4,
 "nbformat_minor": 5
}
